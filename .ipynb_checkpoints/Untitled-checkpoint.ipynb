{
 "cells": [
  {
   "cell_type": "code",
   "execution_count": 2,
   "metadata": {},
   "outputs": [],
   "source": [
    "import pyscreenshot as ImageGrab\n",
    "import time"
   ]
  },
  {
   "cell_type": "code",
   "execution_count": 13,
   "metadata": {},
   "outputs": [
    {
     "name": "stdout",
     "output_type": "stream",
     "text": [
      "saved...... 0\n",
      "clear screen now and redraw now........\n",
      "saved...... 1\n",
      "clear screen now and redraw now........\n",
      "saved...... 2\n",
      "clear screen now and redraw now........\n",
      "saved...... 3\n",
      "clear screen now and redraw now........\n",
      "saved...... 4\n",
      "clear screen now and redraw now........\n",
      "saved...... 5\n",
      "clear screen now and redraw now........\n",
      "saved...... 6\n",
      "clear screen now and redraw now........\n",
      "saved...... 7\n",
      "clear screen now and redraw now........\n",
      "saved...... 8\n",
      "clear screen now and redraw now........\n",
      "saved...... 9\n",
      "clear screen now and redraw now........\n"
     ]
    }
   ],
   "source": [
    "images_folder=\"ok/\"\n",
    "\n",
    "for i in range(0,10):\n",
    "    time.sleep(8)\n",
    "    im=ImageGrab.grab(bbox=(60,170,400,550)) #x1,y1,x2,y2\n",
    "    print(\"saved......\",i)\n",
    "    im.save(images_folder+str(i)+'.png')\n",
    "    print(\"clear screen now and redraw now........\")"
   ]
  },
  {
   "cell_type": "code",
   "execution_count": null,
   "metadata": {},
   "outputs": [],
   "source": []
  },
  {
   "cell_type": "code",
   "execution_count": null,
   "metadata": {},
   "outputs": [],
   "source": []
  },
  {
   "cell_type": "code",
   "execution_count": null,
   "metadata": {},
   "outputs": [],
   "source": []
  },
  {
   "cell_type": "code",
   "execution_count": null,
   "metadata": {},
   "outputs": [],
   "source": []
  },
  {
   "cell_type": "code",
   "execution_count": null,
   "metadata": {},
   "outputs": [],
   "source": []
  },
  {
   "cell_type": "code",
   "execution_count": null,
   "metadata": {},
   "outputs": [],
   "source": []
  },
  {
   "cell_type": "code",
   "execution_count": null,
   "metadata": {},
   "outputs": [],
   "source": []
  }
 ],
 "metadata": {
  "kernelspec": {
   "display_name": "Python 3",
   "language": "python",
   "name": "python3"
  },
  "language_info": {
   "codemirror_mode": {
    "name": "ipython",
    "version": 3
   },
   "file_extension": ".py",
   "mimetype": "text/x-python",
   "name": "python",
   "nbconvert_exporter": "python",
   "pygments_lexer": "ipython3",
   "version": "3.7.3"
  }
 },
 "nbformat": 4,
 "nbformat_minor": 2
}
